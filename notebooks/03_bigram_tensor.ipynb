{
  "cells": [
    {
      "cell_type": "markdown",
      "metadata": {},
      "source": [
        "# 3. Bigram Model avec Tenseurs\n",
        "\n",
        "Implémentation vectorisée avec NumPy."
      ]
    },
    {
      "cell_type": "code",
      "execution_count": null,
      "metadata": {},
      "outputs": [],
      "source": [
        "import numpy as np\n",
        "\n",
        "# Télécharger les données\n",
        "!wget -q https://raw.githubusercontent.com/hichamcharhi/llm-from-scratch/main/data/tinyshakespeare.txt -O input.txt\n",
        "\n",
        "with open('input.txt', 'r', encoding='utf-8') as f:\n",
        "    text = f.read()\n",
        "\n",
        "chars = sorted(list(set(text)))\n",
        "vocab_size = len(chars)\n",
        "stoi = {ch: i for i, ch in enumerate(chars)}\n",
        "itos = {i: ch for i, ch in enumerate(chars)}\n",
        "data = [stoi[c] for c in text]\n",
        "\n",
        "# Matrice de comptage\n",
        "N = np.zeros((vocab_size, vocab_size), dtype=np.int32)\n",
        "for i in range(len(data) - 1):\n",
        "    N[data[i], data[i+1]] += 1\n",
        "\n",
        "# Probabilités avec lissage\n",
        "P = (N + 1).astype(np.float32)\n",
        "P /= P.sum(axis=1, keepdims=True)\n",
        "\n",
        "# Génération\n",
        "def generate(n_tokens):\n",
        "    out = []\n",
        "    ix = 0\n",
        "    for _ in range(n_tokens):\n",
        "        p = P[ix]\n",
        "        ix = np.random.choice(vocab_size, p=p)\n",
        "        out.append(itos[ix])\n",
        "    return ''.join(out)\n",
        "\n",
        "print(generate(100))"
      ]
    }
  ],
  "metadata": {
    "kernelspec": {
      "display_name": "Python 3",
      "language": "python",
      "name": "python3"
    }
  },
  "nbformat": 4,
  "nbformat_minor": 5
}
