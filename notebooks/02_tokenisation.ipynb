{
  "cells": [
    {
      "cell_type": "markdown",
      "metadata": {},
      "source": [
        "# 2. Tokenisation\n",
        "\n",
        "Transformer du texte en tokens : caractère, mot, et Byte Pair Encoding (BPE)."
      ]
    },
    {
      "cell_type": "code",
      "execution_count": null,
      "metadata": {},
      "outputs": [],
      "source": [
        "# Tokenizer caractère\n",
        "class CharTokenizer:\n",
        "    def __init__(self, text):\n",
        "        chars = sorted(list(set(text)))\n",
        "        self.stoi = {ch: i for i, ch in enumerate(chars)}\n",
        "        self.itos = {i: ch for i, ch in enumerate(chars)}\n",
        "\n",
        "    def encode(self, s):\n",
        "        return [self.stoi[c] for c in s]\n",
        "\n",
        "    def decode(self, l):\n",
        "        return ''.join([self.itos[i] for i in l])\n",
        "\n",
        "# Exemple\n",
        "text = \"abracadabra\"\n",
        "tokenizer = CharTokenizer(text)\n",
        "print(tokenizer.encode(\"abra\"))\n",
        "print(tokenizer.decode([0, 1, 3, 0]))"
      ]
    },
    {
      "cell_type": "code",
      "execution_count": null,
      "metadata": {},
      "outputs": [],
      "source": [
        "# BPE simplifié\n",
        "from collections import defaultdict\n",
        "import re\n",
        "\n",
        "def get_stats(ids):\n",
        "    counts = defaultdict(int)\n",
        "    for pair in zip(ids, ids[1:]):\n",
        "        counts[pair] += 1\n",
        "    return counts\n",
        "\n",
        "def merge(ids, pair, idx):\n",
        "    newids = []\n",
        "    i = 0\n",
        "    while i < len(ids):\n",
        "        if i < len(ids) - 1 and ids[i] == pair[0] and ids[i+1] == pair[1]:\n",
        "            newids.append(idx)\n",
        "            i += 2\n",
        "        else:\n",
        "            newids.append(ids[i])\n",
        "            i += 1\n",
        "    return newids\n",
        "\n",
        "# Exemple\n",
        "text = \"bonjour bonjour\"\n",
        "tokens = list(text.encode(\"utf-8\"))\n",
        "vocab_size = 260\n",
        "num_merges = vocab_size - 256\n",
        "merges = {}\n",
        "for i in range(num_merges):\n",
        "    stats = get_stats(tokens)\n",
        "    if not stats:\n",
        "        break\n",
        "    pair = max(stats, key=stats.get)\n",
        "    idx = 256 + i\n",
        "    tokens = merge(tokens, pair, idx)\n",
        "    merges[pair] = idx\n",
        "\n",
        "print(\"Fusions effectuées :\", len(merges))"
      ]
    }
  ],
  "metadata": {
    "kernelspec": {
      "display_name": "Python 3",
      "language": "python",
      "name": "python3"
    }
  },
  "nbformat": 4,
  "nbformat_minor": 5
}
