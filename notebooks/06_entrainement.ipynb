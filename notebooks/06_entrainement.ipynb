{
  "cells": [
    {
      "cell_type": "markdown",
      "metadata": {},
      "source": [
        "# 6. Entraînement du LLM\n",
        "\n",
        "Boucle d’entraînement simplifiée avec perte cross-entropy."
      ]
    },
    {
      "cell_type": "code",
      "execution_count": null,
      "metadata": {},
      "outputs": [],
      "source": [
        "import numpy as np\n",
        "\n",
        "# Télécharger les données\n",
        "!wget -q https://raw.githubusercontent.com/hichamcharhi/llm-from-scratch/main/data/tinyshakespeare.txt -O input.txt\n",
        "\n",
        "with open('input.txt', 'r', encoding='utf-8') as f:\n",
        "    text = f.read()\n",
        "\n",
        "chars = sorted(list(set(text)))\n",
        "vocab_size = len(chars)\n",
        "stoi = {ch: i for i, ch in enumerate(chars)}\n",
        "data = np.array([stoi[c] for c in text])\n",
        "\n",
        "def get_batch(data, batch_size=4, block_size=16):\n",
        "    ix = np.random.randint(0, len(data) - block_size, (batch_size,))\n",
        "    x = np.stack([data[i:i+block_size] for i in ix])\n",
        "    y = np.stack([data[i+1:i+1+block_size] for i in ix])\n",
        "    return x, y\n",
        "\n",
        "def cross_entropy_loss(logits, targets):\n",
        "    B, T, V = logits.shape\n",
        "    logits = logits.reshape(B * T, V)\n",
        "    targets = targets.reshape(B * T)\n",
        "    logits -= np.max(logits, axis=1, keepdims=True)\n",
        "    log_probs = logits - np.log(np.sum(np.exp(logits), axis=1, keepdims=True))\n",
        "    return -np.mean(log_probs[np.arange(B * T), targets])\n",
        "\n",
        "# Simulation\n",
        "for step in range(5):\n",
        "    x, y = get_batch(data)\n",
        "    logits = np.random.randn(x.shape[0], x.shape[1], vocab_size)  # Remplacer par sortie réelle\n",
        "    loss = cross_entropy_loss(logits, y)\n",
        "    print(f\"Étape {step+1}, perte : {loss:.4f}\")"
      ]
    }
  ],
  "metadata": {
    "kernelspec": {
      "display_name": "Python 3",
      "language": "python",
      "name": "python3"
    }
  },
  "nbformat": 4,
  "nbformat_minor": 5
}
