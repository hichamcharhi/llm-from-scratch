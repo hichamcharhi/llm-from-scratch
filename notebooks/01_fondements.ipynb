{
  "cells": [
    {
      "cell_type": "markdown",
      "metadata": {},
      "source": [
        "# 1. Fondements d’un LLM\n",
        "\n",
        "Comprendre les bases : probabilités conditionnelles, génération de texte, et prédictions de tokens."
      ]
    },
    {
      "cell_type": "code",
      "execution_count": null,
      "metadata": {},
      "outputs": [],
      "source": [
        "# Télécharger les données\n",
        "!wget -q https://raw.githubusercontent.com/hichamcharhi/llm-from-scratch/main/data/tinyshakespeare.txt -O input.txt\n",
        "\n",
        "# Charger le corpus\n",
        "with open('input.txt', 'r', encoding='utf-8') as f:\n",
        "    text = f.read()\n",
        "\n",
        "corpus = text.replace('\\n', ' <NEWLINE> ').split()\n",
        "print(f\"Longueur du corpus : {len(corpus)} tokens\")"
      ]
    },
    {
      "cell_type": "code",
      "execution_count": null,
      "metadata": {},
      "outputs": [],
      "source": [
        "from collections import defaultdict\n",
        "import random\n",
        "\n",
        "# Construire le modèle Bigram\n",
        "bigrams = defaultdict(list)\n",
        "for i in range(len(corpus) - 1):\n",
        "    bigrams[corpus[i]].append(corpus[i + 1])\n",
        "\n",
        "# Générer une phrase\n",
        "def generate(start_word, length=10):\n",
        "    current = start_word\n",
        "    output = [current]\n",
        "    for _ in range(length - 1):\n",
        "        if current in bigrams:\n",
        "            next_word = random.choice(bigrams[current])\n",
        "            output.append(next_word)\n",
        "            current = next_word\n",
        "        else:\n",
        "            break\n",
        "    return \" \".join(output).replace(\" <NEWLINE> \", \"\\n\")\n",
        "\n",
        "print(generate(\"First\"))"
      ]
    }
  ],
  "metadata": {
    "kernelspec": {
      "display_name": "Python 3",
      "language": "python",
      "name": "python3"
    },
    "language_info": {
      "name": "python",
      "version": "3.10.0"
    }
  },
  "nbformat": 4,
  "nbformat_minor": 5
}
